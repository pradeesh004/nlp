{
 "cells": [
  {
   "cell_type": "code",
   "execution_count": 1,
   "id": "a39ffb43-1265-4850-8f33-be1139647185",
   "metadata": {},
   "outputs": [],
   "source": [
    "import nltk\n",
    "from nltk import word_tokenize\n",
    "from nltk.util import ngrams\n",
    "from collections import Counter, defaultdict"
   ]
  },
  {
   "cell_type": "code",
   "execution_count": 2,
   "id": "69ff02c1-1cd7-45da-919e-3bcf446c90dc",
   "metadata": {},
   "outputs": [
    {
     "name": "stderr",
     "output_type": "stream",
     "text": [
      "[nltk_data] Downloading package punkt to C:\\Users\\PRADEESH\n",
      "[nltk_data]     KUMAR\\AppData\\Roaming\\nltk_data...\n",
      "[nltk_data]   Package punkt is already up-to-date!\n"
     ]
    },
    {
     "data": {
      "text/plain": [
       "True"
      ]
     },
     "execution_count": 2,
     "metadata": {},
     "output_type": "execute_result"
    }
   ],
   "source": [
    "nltk.download('punkt')"
   ]
  },
  {
   "cell_type": "code",
   "execution_count": 16,
   "id": "ec12e02f-8d0c-4f2c-b5a3-14a77bebbdef",
   "metadata": {},
   "outputs": [
    {
     "name": "stdin",
     "output_type": "stream",
     "text": [
      " hi this is pradeesh kumar , an aids student in sri sairam engineering college\n"
     ]
    }
   ],
   "source": [
    "text = input()"
   ]
  },
  {
   "cell_type": "code",
   "execution_count": 17,
   "id": "bf1c18a0-01de-4eb9-b6a7-d885dc574207",
   "metadata": {},
   "outputs": [],
   "source": [
    "tokens = word_tokenize(text.lower())"
   ]
  },
  {
   "cell_type": "code",
   "execution_count": 18,
   "id": "97dcbc40-de50-4b35-8cb2-564bbf5c01ef",
   "metadata": {},
   "outputs": [],
   "source": [
    "unigrams = list(ngrams(tokens, 1))"
   ]
  },
  {
   "cell_type": "code",
   "execution_count": 19,
   "id": "4080b05a-7c75-4cab-a8f8-f6e0037f0f66",
   "metadata": {},
   "outputs": [],
   "source": [
    "bigrams = list(ngrams(tokens,2))"
   ]
  },
  {
   "cell_type": "code",
   "execution_count": 20,
   "id": "3ceef253-a0cc-4f49-9639-35e62f608f4a",
   "metadata": {},
   "outputs": [],
   "source": [
    "trigrams = list(ngrams(tokens,3))"
   ]
  },
  {
   "cell_type": "code",
   "execution_count": 21,
   "id": "702e9354-6258-4378-b228-2caf74376ebc",
   "metadata": {},
   "outputs": [],
   "source": [
    "bigram_counts = Counter(bigrams)\n",
    "unigram_counts = Counter(tokens)\n",
    "bigram_probabilities = {bigram: bigram_counts[bigram] / unigram_counts[bigram[0]] for bigram in bigram_counts}"
   ]
  },
  {
   "cell_type": "code",
   "execution_count": 22,
   "id": "37e45b26-ffc4-42bb-8222-29abb499cc88",
   "metadata": {},
   "outputs": [],
   "source": [
    "def next_word_prediction(prev_word):\n",
    "    candidates = {bigram: prob for bigram, prob in bigram_probabilities.items() if bigram[0] == prev_word}\n",
    "    if not candidates:\n",
    "        return None\n",
    "    predicted_bigram = max(candidates, key=candidates.get)\n",
    "    return predicted_bigram[1]"
   ]
  },
  {
   "cell_type": "code",
   "execution_count": 23,
   "id": "5bc44cd9-2b80-4b40-b4d4-e03d2df9b12d",
   "metadata": {},
   "outputs": [
    {
     "name": "stdout",
     "output_type": "stream",
     "text": [
      "Unigrams:\n",
      "[('hi',), ('this',), ('is',), ('pradeesh',), ('kumar',), (',',), ('an',), ('aids',), ('student',), ('in',), ('sri',), ('sairam',), ('engineering',), ('college',)]\n",
      "\n",
      "Bigrams:\n",
      "[('hi', 'this'), ('this', 'is'), ('is', 'pradeesh'), ('pradeesh', 'kumar'), ('kumar', ','), (',', 'an'), ('an', 'aids'), ('aids', 'student'), ('student', 'in'), ('in', 'sri'), ('sri', 'sairam'), ('sairam', 'engineering'), ('engineering', 'college')]\n",
      "\n",
      "Trigrams:\n",
      "[('hi', 'this', 'is'), ('this', 'is', 'pradeesh'), ('is', 'pradeesh', 'kumar'), ('pradeesh', 'kumar', ','), ('kumar', ',', 'an'), (',', 'an', 'aids'), ('an', 'aids', 'student'), ('aids', 'student', 'in'), ('student', 'in', 'sri'), ('in', 'sri', 'sairam'), ('sri', 'sairam', 'engineering'), ('sairam', 'engineering', 'college')]\n"
     ]
    }
   ],
   "source": [
    "print(\"Unigrams:\")\n",
    "print(unigrams)\n",
    "print(\"\\nBigrams:\")\n",
    "print(bigrams)\n",
    "print(\"\\nTrigrams:\")\n",
    "print(trigrams)"
   ]
  },
  {
   "cell_type": "code",
   "execution_count": 24,
   "id": "015622a0-f8d8-4055-9a7c-ad5210bc044a",
   "metadata": {},
   "outputs": [
    {
     "name": "stdout",
     "output_type": "stream",
     "text": [
      "\n",
      "Bigram Probabilities:\n",
      "('hi', 'this'): 1.0000\n",
      "('this', 'is'): 1.0000\n",
      "('is', 'pradeesh'): 1.0000\n",
      "('pradeesh', 'kumar'): 1.0000\n",
      "('kumar', ','): 1.0000\n",
      "(',', 'an'): 1.0000\n",
      "('an', 'aids'): 1.0000\n",
      "('aids', 'student'): 1.0000\n",
      "('student', 'in'): 1.0000\n",
      "('in', 'sri'): 1.0000\n",
      "('sri', 'sairam'): 1.0000\n",
      "('sairam', 'engineering'): 1.0000\n",
      "('engineering', 'college'): 1.0000\n"
     ]
    }
   ],
   "source": [
    "print(\"\\nBigram Probabilities:\")\n",
    "for bigram, prob in bigram_probabilities.items():\n",
    "    print(f\"{bigram}: {prob:.4f}\")"
   ]
  },
  {
   "cell_type": "code",
   "execution_count": 25,
   "id": "415cf651-9318-40df-b9a8-a9689295479c",
   "metadata": {},
   "outputs": [
    {
     "name": "stdin",
     "output_type": "stream",
     "text": [
      " pradeesh\n"
     ]
    },
    {
     "name": "stdout",
     "output_type": "stream",
     "text": [
      "\n",
      "Next word prediction for 'pradeesh': kumar\n"
     ]
    }
   ],
   "source": [
    "previous_word = input()\n",
    "predicted_word = next_word_prediction(previous_word)\n",
    "print(f\"\\nNext word prediction for '{previous_word}': {predicted_word}\")"
   ]
  },
  {
   "cell_type": "code",
   "execution_count": null,
   "id": "c46562fd-87cc-454d-81ca-0f101861d84f",
   "metadata": {},
   "outputs": [],
   "source": []
  }
 ],
 "metadata": {
  "kernelspec": {
   "display_name": "Python 3 (ipykernel)",
   "language": "python",
   "name": "python3"
  },
  "language_info": {
   "codemirror_mode": {
    "name": "ipython",
    "version": 3
   },
   "file_extension": ".py",
   "mimetype": "text/x-python",
   "name": "python",
   "nbconvert_exporter": "python",
   "pygments_lexer": "ipython3",
   "version": "3.12.4"
  }
 },
 "nbformat": 4,
 "nbformat_minor": 5
}
